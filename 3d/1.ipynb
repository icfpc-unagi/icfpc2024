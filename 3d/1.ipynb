{
 "cells": [
  {
   "cell_type": "code",
   "execution_count": 31,
   "metadata": {},
   "outputs": [
    {
     "name": "stdout",
     "output_type": "stream",
     "text": [
      ". . 0 . x > . . \n",
      ". y = . + S v . \n",
      "-1 + . . . . . . \n",
      ". . > . > . * . \n",
      "0 + . > . . . . \n",
      ". . . . v 4 @ 5 \n",
      ". . . . . . 4 . \n",
      ". . . 3 @ 6 . . \n",
      ". . . . 4 . . . \n"
     ]
    }
   ],
   "source": [
    "a = \"\"\"\n",
    ".\t.\t0\t.\tx\t>\t[1]\t.\n",
    ".\ty\t=\t[1]\t+\tS\tv\t.\n",
    "-1\t+\t.\t.\t.\t.\t[2]\t.\n",
    ".\t[1]\t>\t[2]\t>\t[3]\t*\t.\n",
    "0\t+\t[2]\t>\t[3]\t.\t[4]\t.\n",
    ".\t.\t.\t.\tv\t4\t@\t5\n",
    ".\t.\t.\t.\t[4]\t.\t4\t.\n",
    ".\t.\t.\t3\t@\t6\t.\t.\n",
    ".\t.\t.\t.\t4\t.\t.\t.\n",
    "\"\"\"\n",
    "\n",
    "lines = a.strip().split('\\n')\n",
    "for line in lines:\n",
    "    for token in line.split():\n",
    "        if token[0] == \"[\":\n",
    "            token = \".\"\n",
    "        print(token, end=' ')\n",
    "    print()"
   ]
  }
 ],
 "metadata": {
  "kernelspec": {
   "display_name": "Jupyter-kernel",
   "language": "python",
   "name": "jupyter-kernel"
  }
 },
 "nbformat": 4,
 "nbformat_minor": 2
}
