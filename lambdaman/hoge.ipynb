{
 "cells": [
  {
   "cell_type": "code",
   "execution_count": 3,
   "metadata": {},
   "outputs": [],
   "source": [
    "x = 2\n",
    "for i in range(1000000):\n",
    "    x = ((x * 23) + 7) % 499979\n",
    "    if x == 1:\n",
    "        print(\"done\", i)\n",
    "        break\n"
   ]
  },
  {
   "cell_type": "code",
   "execution_count": 4,
   "metadata": {},
   "outputs": [
    {
     "name": "stdout",
     "output_type": "stream",
     "text": [
      "4729\n",
      "326338\n",
      "514433\n",
      "491259\n",
      "892519\n",
      "575735\n",
      "720565\n",
      "712505\n",
      "156365\n",
      "787892\n",
      "4729\n",
      "326338\n",
      "514433\n",
      "491259\n",
      "892519\n",
      "575735\n",
      "720565\n",
      "712505\n",
      "156365\n",
      "787892\n"
     ]
    }
   ],
   "source": [
    "x0 = 68\n",
    "a = 69\n",
    "c = 37\n",
    "m = 1000133\n",
    "\n",
    "x = x0\n",
    "for _ in range(10):\n",
    "    x = (a * x + c) % m\n",
    "    print(x)\n",
    "\n",
    "x0 *= 2\n",
    "# a *= 2\n",
    "c *= 2\n",
    "m *= 2\n",
    "\n",
    "x = x0\n",
    "for _ in range(10):\n",
    "    x = (a * x + c) % m\n",
    "    print(x // 2)\n"
   ]
  }
 ],
 "metadata": {
  "kernelspec": {
   "display_name": "venv",
   "language": "python",
   "name": "python3"
  },
  "language_info": {
   "codemirror_mode": {
    "name": "ipython",
    "version": 3
   },
   "file_extension": ".py",
   "mimetype": "text/x-python",
   "name": "python",
   "nbconvert_exporter": "python",
   "pygments_lexer": "ipython3",
   "version": "3.12.2"
  }
 },
 "nbformat": 4,
 "nbformat_minor": 2
}
